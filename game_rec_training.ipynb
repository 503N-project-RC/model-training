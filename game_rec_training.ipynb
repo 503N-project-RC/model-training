{
  "cells": [
    {
      "cell_type": "markdown",
      "metadata": {
        "id": "view-in-github",
        "colab_type": "text"
      },
      "source": [
        "<a href=\"https://colab.research.google.com/github/503N-project-RC/model-training/blob/main/game_rec_training.ipynb\" target=\"_parent\"><img src=\"https://colab.research.google.com/assets/colab-badge.svg\" alt=\"Open In Colab\"/></a>"
      ]
    },
    {
      "cell_type": "markdown",
      "metadata": {
        "id": "wSXThhww_aUp"
      },
      "source": [
        "# GAME RECOMMENDATION SYSTEM"
      ]
    },
    {
      "cell_type": "markdown",
      "metadata": {
        "id": "LCk-3UCpGG6_"
      },
      "source": [
        "## PREPROCESSING"
      ]
    },
    {
      "cell_type": "code",
      "execution_count": null,
      "metadata": {
        "colab": {
          "base_uri": "https://localhost:8080/"
        },
        "id": "dE_cV_0i_eTo",
        "outputId": "2082cfce-46fd-44ea-e0a3-b6237fbe7432"
      },
      "outputs": [
        {
          "output_type": "stream",
          "name": "stdout",
          "text": [
            "Requirement already satisfied: numpy==1.26.4 in /usr/local/lib/python3.11/dist-packages (1.26.4)\n",
            "Requirement already satisfied: lightfm in /usr/local/lib/python3.11/dist-packages (1.17)\n",
            "Requirement already satisfied: optuna in /usr/local/lib/python3.11/dist-packages (4.2.1)\n",
            "Requirement already satisfied: numpy in /usr/local/lib/python3.11/dist-packages (from lightfm) (1.26.4)\n",
            "Requirement already satisfied: scipy>=0.17.0 in /usr/local/lib/python3.11/dist-packages (from lightfm) (1.13.1)\n",
            "Requirement already satisfied: requests in /usr/local/lib/python3.11/dist-packages (from lightfm) (2.32.3)\n",
            "Requirement already satisfied: scikit-learn in /usr/local/lib/python3.11/dist-packages (from lightfm) (1.6.1)\n",
            "Requirement already satisfied: alembic>=1.5.0 in /usr/local/lib/python3.11/dist-packages (from optuna) (1.15.2)\n",
            "Requirement already satisfied: colorlog in /usr/local/lib/python3.11/dist-packages (from optuna) (6.9.0)\n",
            "Requirement already satisfied: packaging>=20.0 in /usr/local/lib/python3.11/dist-packages (from optuna) (24.2)\n",
            "Requirement already satisfied: sqlalchemy>=1.4.2 in /usr/local/lib/python3.11/dist-packages (from optuna) (2.0.40)\n",
            "Requirement already satisfied: tqdm in /usr/local/lib/python3.11/dist-packages (from optuna) (4.67.1)\n",
            "Requirement already satisfied: PyYAML in /usr/local/lib/python3.11/dist-packages (from optuna) (6.0.2)\n",
            "Requirement already satisfied: Mako in /usr/lib/python3/dist-packages (from alembic>=1.5.0->optuna) (1.1.3)\n",
            "Requirement already satisfied: typing-extensions>=4.12 in /usr/local/lib/python3.11/dist-packages (from alembic>=1.5.0->optuna) (4.13.0)\n",
            "Requirement already satisfied: greenlet>=1 in /usr/local/lib/python3.11/dist-packages (from sqlalchemy>=1.4.2->optuna) (3.1.1)\n",
            "Requirement already satisfied: charset-normalizer<4,>=2 in /usr/local/lib/python3.11/dist-packages (from requests->lightfm) (3.4.1)\n",
            "Requirement already satisfied: idna<4,>=2.5 in /usr/local/lib/python3.11/dist-packages (from requests->lightfm) (3.10)\n",
            "Requirement already satisfied: urllib3<3,>=1.21.1 in /usr/local/lib/python3.11/dist-packages (from requests->lightfm) (2.3.0)\n",
            "Requirement already satisfied: certifi>=2017.4.17 in /usr/local/lib/python3.11/dist-packages (from requests->lightfm) (2025.1.31)\n",
            "Requirement already satisfied: joblib>=1.2.0 in /usr/local/lib/python3.11/dist-packages (from scikit-learn->lightfm) (1.4.2)\n",
            "Requirement already satisfied: threadpoolctl>=3.1.0 in /usr/local/lib/python3.11/dist-packages (from scikit-learn->lightfm) (3.6.0)\n",
            "Requirement already satisfied: gensim in /usr/local/lib/python3.11/dist-packages (4.3.3)\n",
            "Requirement already satisfied: numpy<2.0,>=1.18.5 in /usr/local/lib/python3.11/dist-packages (from gensim) (1.26.4)\n",
            "Requirement already satisfied: scipy<1.14.0,>=1.7.0 in /usr/local/lib/python3.11/dist-packages (from gensim) (1.13.1)\n",
            "Requirement already satisfied: smart-open>=1.8.1 in /usr/local/lib/python3.11/dist-packages (from gensim) (7.1.0)\n",
            "Requirement already satisfied: wrapt in /usr/local/lib/python3.11/dist-packages (from smart-open>=1.8.1->gensim) (1.17.2)\n"
          ]
        }
      ],
      "source": [
        "import os\n",
        "import json\n",
        "import sys\n",
        "import warnings\n",
        "import pandas as pd\n",
        "!pip install numpy==1.26.4\n",
        "import numpy as np\n",
        "from google.colab import drive, files\n",
        "import seaborn as sns\n",
        "import matplotlib.pyplot as plt\n",
        "from sklearn.decomposition import PCA\n",
        "\n",
        "warnings.filterwarnings(\"ignore\")\n",
        "\n",
        "from sklearn.preprocessing import MultiLabelBinarizer, MinMaxScaler\n",
        "from sklearn.metrics.pairwise import cosine_similarity\n",
        "from scipy.sparse import coo_matrix, csr_matrix\n",
        "\n",
        "!pip install lightfm optuna\n",
        "from lightfm import LightFM\n",
        "from lightfm.cross_validation import random_train_test_split\n",
        "from lightfm.evaluation import precision_at_k\n",
        "\n",
        "import optuna\n",
        "\n",
        "!pip install gensim\n",
        "from gensim.models import Word2Vec\n"
      ]
    },
    {
      "cell_type": "code",
      "execution_count": null,
      "metadata": {
        "colab": {
          "base_uri": "https://localhost:8080/"
        },
        "id": "RDRrLEqPG8de",
        "outputId": "cfd99335-2099-4dac-fe2c-6673e4450769"
      },
      "outputs": [
        {
          "output_type": "stream",
          "name": "stdout",
          "text": [
            "Drive already mounted at /content/drive; to attempt to forcibly remount, call drive.mount(\"/content/drive\", force_remount=True).\n"
          ]
        }
      ],
      "source": [
        "drive.mount('/content/drive')\n",
        "drive_base_path = '/content/drive/My Drive/503Nproj/game-rec'\n",
        "file_path = os.path.join(drive_base_path, 'synthetic_training_data.json')\n",
        "\n",
        "with open(file_path, 'r') as file:\n",
        "    data = json.load(file)"
      ]
    },
    {
      "cell_type": "code",
      "execution_count": null,
      "metadata": {
        "id": "dp3vozJEJWBe"
      },
      "outputs": [],
      "source": [
        "# lists initialized for interaction matrix\n",
        "player_ids = []\n",
        "game_ids = []\n",
        "hours_played = []\n",
        "\n",
        "# lists initialized for game features\n",
        "game_features = {}"
      ]
    },
    {
      "cell_type": "code",
      "execution_count": null,
      "metadata": {
        "id": "ZWPQ9qCRJdWn"
      },
      "outputs": [],
      "source": [
        "# data processing\n",
        "for player, details in data.items():\n",
        "    for game_id, game_data in details[\"games\"].items():\n",
        "        # interaction matrix\n",
        "        player_ids.append(player)\n",
        "        game_ids.append(game_id)\n",
        "        hours_played.append(game_data[\"hours\"])\n",
        "\n",
        "        # collection of game features\n",
        "        if game_id not in game_features:\n",
        "            game_features[game_id] = {\n",
        "                \"rating_ratio\": game_data[\"rating_ratio\"],\n",
        "                \"price\": float(game_data[\"price\"]),\n",
        "                \"genre\": game_data[\"genre\"],\n",
        "                \"tags\": game_data[\"tags\"]\n",
        "            }"
      ]
    },
    {
      "cell_type": "code",
      "execution_count": null,
      "metadata": {
        "id": "MHB1qcTLL-55",
        "colab": {
          "base_uri": "https://localhost:8080/"
        },
        "outputId": "2a743984-3d5a-4d72-c80c-e0bcb91621fb"
      },
      "outputs": [
        {
          "output_type": "stream",
          "name": "stdout",
          "text": [
            "Sparsity: 93.45%\n"
          ]
        }
      ],
      "source": [
        "# creation of interaction matrix\n",
        "player_idx = {player: i for i, player in enumerate(set(player_ids))}\n",
        "game_idx = {game: i for i, game in enumerate(set(game_ids))}\n",
        "rows = [player_idx[p] for p in player_ids]\n",
        "cols = [game_idx[g] for g in game_ids]\n",
        "data = hours_played\n",
        "interaction_matrix = coo_matrix((data, (rows, cols)), shape=(len(player_idx), len(game_idx))).tocsr()\n",
        "\n",
        "sparsity = 1.0 - (interaction_matrix.nnz / float(interaction_matrix.shape[0] * interaction_matrix.shape[1]))\n",
        "print(f\"Sparsity: {sparsity:.2%}\")"
      ]
    },
    {
      "cell_type": "code",
      "execution_count": null,
      "metadata": {
        "id": "vbLnyjehMFd6"
      },
      "outputs": [],
      "source": [
        "# game features ->> DataFrame\n",
        "game_df = pd.DataFrame.from_dict(game_features, orient='index')"
      ]
    },
    {
      "cell_type": "code",
      "execution_count": null,
      "metadata": {
        "colab": {
          "base_uri": "https://localhost:8080/"
        },
        "id": "em6JcmPjINUr",
        "outputId": "a88a05c3-7928-4aa5-bdaa-7d24837f8f9b"
      },
      "outputs": [
        {
          "output_type": "stream",
          "name": "stdout",
          "text": [
            "[['Free to Play', 'Battle Royale', 'Multiplayer', 'FPS', 'Shooter', 'First-Person', 'PvP', 'Action', 'Hero Shooter', 'Team-Based', 'Tactical', 'Sci-fi', 'Survival', 'Loot', 'Co-op', 'Character Customization', 'Funny', 'Lore-Rich', 'Cyberpunk', 'Cinematic'], ['Free to Play', 'FPS', 'Multiplayer', 'Singleplayer', 'Shooter', 'Action', 'First-Person', 'Open World', 'Sci-fi', 'Co-op', 'PvP', 'Competitive', 'Story Rich', 'Space', 'Adventure', 'Aliens', 'Lore-Rich', 'Cinematic', 'Atmospheric', 'Soundtrack'], ['Free to Play', 'Battle Royale', 'Shooter', 'Multiplayer', 'Survival', 'FPS', 'Action', 'Massively Multiplayer', 'Third-Person Shooter', 'Early Access', 'Singleplayer', 'PvP', 'Open World', 'Co-op', '3D', 'Tactical', 'Violent', 'Gore', 'MOBA', 'First-Person'], ['Open World', 'Extraction Shooter', 'Multiplayer', 'Atmospheric', 'Tactical', 'FPS', 'Perma Death', 'Western', 'PvP', 'Shooter', 'Horror', 'Online Co-Op', 'Survival Horror', 'Co-op', 'Difficult', 'Battle Royale', 'Team-Based', 'Action', 'Gore', 'Zombies'], ['RPG', 'Character Customization', 'Choices Matter', 'Story Rich', 'Turn-Based Combat', 'Dungeons & Dragons', 'CRPG', 'Fantasy', 'Adventure', 'Romance', 'Sexual Content', 'Online Co-Op', 'Multiplayer', 'Strategy', 'Singleplayer', 'Co-op Campaign', 'Class-Based', 'Nudity', 'Dark Fantasy', 'Combat']]\n"
          ]
        }
      ],
      "source": [
        "# Word2Vec embedding\n",
        "\n",
        "tag_sentences = list(game_df['tags'].apply(lambda x: x if isinstance(x, list) else []))\n",
        "word2vec = Word2Vec(sentences=tag_sentences, vector_size=50, window=5, min_count=1, workers=4)\n",
        "\n",
        "print(tag_sentences[10:15])\n",
        "\n",
        "def get_embedding(tags):\n",
        "    vectors = [word2vec.wv[tag] for tag in tags if tag in word2vec.wv]\n",
        "    return np.mean(vectors, axis=0) if vectors else np.zeros(50)\n",
        "\n",
        "game_df['tag_embedding'] = game_df['tags'].apply(get_embedding)\n"
      ]
    },
    {
      "cell_type": "code",
      "execution_count": null,
      "metadata": {
        "colab": {
          "base_uri": "https://localhost:8080/"
        },
        "id": "07QIhWxYcZpX",
        "outputId": "114fb504-82b0-4f95-ac93-74c3c90ad61f"
      },
      "outputs": [
        {
          "output_type": "stream",
          "name": "stdout",
          "text": [
            "Word2vec vector size =  50\n",
            "         rating_ratio   price  \\\n",
            "1203220         2.363     0.0   \n",
            "433850          1.258     0.0   \n",
            "250900         36.967   899.0   \n",
            "1063730         2.188  4199.0   \n",
            "582010          7.299  2999.0   \n",
            "...               ...     ...   \n",
            "255710         13.356   299.0   \n",
            "289070          6.586   599.0   \n",
            "438100          3.089     0.0   \n",
            "108600         16.160  1099.0   \n",
            "8930           22.865  2999.0   \n",
            "\n",
            "                                                     genre  \\\n",
            "1203220         [Action, Adventure, Massively Multiplayer]   \n",
            "433850   [Action, Adventure, Free To Play, Massively Mu...   \n",
            "250900                                            [Action]   \n",
            "1063730    [Action, Adventure, Massively Multiplayer, RPG]   \n",
            "582010                                            [Action]   \n",
            "...                                                    ...   \n",
            "255710                              [Simulation, Strategy]   \n",
            "289070                                          [Strategy]   \n",
            "438100   [Adventure, Casual, Massively Multiplayer, Sim...   \n",
            "108600              [Indie, RPG, Simulation, Early Access]   \n",
            "8930                                            [Strategy]   \n",
            "\n",
            "                                                      tags  \\\n",
            "1203220  [Battle Royale, Multiplayer, Martial Arts, PvP...   \n",
            "433850   [Survival, Massively Multiplayer, Multiplayer,...   \n",
            "250900   [Action Roguelike, Rogue-like, Indie, Replay V...   \n",
            "1063730  [Open World, Massively Multiplayer, MMORPG, RP...   \n",
            "582010   [Co-op, Multiplayer, Action, Open World, RPG, ...   \n",
            "...                                                    ...   \n",
            "255710   [City Builder, Simulation, Building, Managemen...   \n",
            "289070   [Strategy, Turn-Based Strategy, Multiplayer, H...   \n",
            "438100   [VR, Free to Play, Multiplayer, Anime, Memes, ...   \n",
            "108600   [Survival, Zombies, Open World, Multiplayer, O...   \n",
            "8930     [Turn-Based Strategy, Strategy, Turn-Based, Mu...   \n",
            "\n",
            "                                             tag_embedding  \n",
            "1203220  [0.003731294, -0.0032680943, 0.00043108285, 0....  \n",
            "433850   [0.0029788704, -0.0024175965, -0.0021823796, -...  \n",
            "250900   [0.0007402381, 0.0003144596, -0.0006647544, -0...  \n",
            "1063730  [0.005263499, -0.0022480178, -0.0021855254, -0...  \n",
            "582010   [0.0036647085, -0.0008349534, -0.007908487, -0...  \n",
            "...                                                    ...  \n",
            "255710   [8.7891356e-05, -8.453887e-05, -0.0026210896, ...  \n",
            "289070   [0.0026935705, 0.002441278, -0.0045700073, -0....  \n",
            "438100   [0.0056673056, -0.0019435523, -0.0043178927, -...  \n",
            "108600   [0.004938906, 0.0004536321, -0.0029939264, -0....  \n",
            "8930     [0.00528666, -0.0022030994, -0.00629358, 0.001...  \n",
            "\n",
            "[99 rows x 5 columns]\n"
          ]
        }
      ],
      "source": [
        "print(\"Word2vec vector size = \", word2vec.vector_size)\n",
        "print(game_df)"
      ]
    },
    {
      "cell_type": "code",
      "source": [
        "# select small sample of games to visualize\n",
        "sample_games = game_df.sample(20, random_state=42)\n",
        "sample_embeddings = np.vstack(sample_games['tag_embedding'].values)\n",
        "\n",
        "# compute cosine similarity matrix\n",
        "similarity_matrix = cosine_similarity(sample_embeddings)\n",
        "\n",
        "# plot heatmap\n",
        "plt.figure(figsize=(12, 10))\n",
        "sns.heatmap(similarity_matrix, annot=False, cmap='viridis', xticklabels=sample_games.index, yticklabels=sample_games.index)\n",
        "plt.title(\"Game similarity based on tag embeddings (Word2Vec)\")\n",
        "plt.xlabel(\"Game ID\")\n",
        "plt.ylabel(\"Game ID\")\n",
        "plt.tight_layout()\n",
        "plt.show()\n"
      ],
      "metadata": {
        "colab": {
          "base_uri": "https://localhost:8080/",
          "height": 1000
        },
        "id": "WdQxgnenZ2mk",
        "outputId": "e8516a1b-c302-427d-ea48-39cbf4b40dc9"
      },
      "execution_count": null,
      "outputs": [
        {
          "output_type": "display_data",
          "data": {
            "text/plain": [
              "<Figure size 1200x1000 with 2 Axes>"
            ],
            "image/png": "[encoded data removed]"
          },
          "metadata": {}
        }
      ]
    },
    {
      "cell_type": "code",
      "source": [
        "tag_embeddings = np.vstack(game_df['tag_embedding'].values)\n",
        "\n",
        "# PCA for 2D projection\n",
        "pca = PCA(n_components=2)\n",
        "reduced = pca.fit_transform(tag_embeddings)\n",
        "\n",
        "# plot\n",
        "plt.figure(figsize=(8, 6))\n",
        "plt.scatter(reduced[:, 0], reduced[:, 1], s=30, alpha=0.7)\n",
        "plt.title(\"Tag embedding distribution (PCA-reduced)\")\n",
        "plt.xlabel(\"PCA 1\")\n",
        "plt.ylabel(\"PCA 2\")\n",
        "plt.grid(True)\n",
        "plt.show()\n"
      ],
      "metadata": {
        "colab": {
          "base_uri": "https://localhost:8080/",
          "height": 564
        },
        "id": "vsUbRPA6bXy7",
        "outputId": "84fde068-8d8c-4fc4-c1a7-fb7103c8daf2"
      },
      "execution_count": null,
      "outputs": [
        {
          "output_type": "display_data",
          "data": {
            "text/plain": [
              "<Figure size 800x600 with 1 Axes>"
            ],
            "image/png": "[encoded data removed]"
          },
          "metadata": {}
        }
      ]
    },
    {
      "cell_type": "code",
      "execution_count": null,
      "metadata": {
        "colab": {
          "base_uri": "https://localhost:8080/"
        },
        "id": "Zx9RJLWEMM3B",
        "outputId": "264f11da-c591-480c-8275-166fcaa6ea05"
      },
      "outputs": [
        {
          "output_type": "stream",
          "name": "stdout",
          "text": [
            "Interaction matrix shape: (50000, 99)\n",
            "Game features shape: (99, 3)\n"
          ]
        }
      ],
      "source": [
        "# drop original lists\n",
        "game_df.drop(columns=['genre', 'tags'], inplace=True)\n",
        "\n",
        "# price & rating ratio normalization\n",
        "scaler = MinMaxScaler()\n",
        "game_df[['rating_ratio', 'price']] = scaler.fit_transform(game_df[['rating_ratio', 'price']])\n",
        "\n",
        "print(\"Interaction matrix shape:\", interaction_matrix.shape)\n",
        "print(\"Game features shape:\", game_df.shape)"
      ]
    },
    {
      "cell_type": "code",
      "execution_count": null,
      "metadata": {
        "colab": {
          "base_uri": "https://localhost:8080/"
        },
        "id": "5L_iL8ASHvIV",
        "outputId": "81359f05-aa9c-41b6-c54f-75df8b814fcd"
      },
      "outputs": [
        {
          "output_type": "stream",
          "name": "stdout",
          "text": [
            "Game features shape: (99, 52)\n"
          ]
        }
      ],
      "source": [
        "# ensure embeddings are expanded into separate numerical columns\n",
        "game_embeddings = np.vstack(game_df['tag_embedding'].values)\n",
        "\n",
        "# drop old embedding column\n",
        "game_df = game_df.drop(columns=['tag_embedding'])\n",
        "\n",
        "# ensure all columns are numerical\n",
        "game_feature_matrix = np.hstack([game_df.to_numpy(), game_embeddings])\n",
        "\n",
        "print(\"Game features shape:\", game_feature_matrix.shape)  # expecting (99, 52) = 50-dim Word2Vec & 2 other features"
      ]
    },
    {
      "cell_type": "code",
      "execution_count": null,
      "metadata": {
        "id": "BgHiDmHbIFB-"
      },
      "outputs": [],
      "source": [
        "def objective(trial):\n",
        "    loss = trial.suggest_categorical(\"loss\", [\"warp\", \"bpr\"])\n",
        "    components = trial.suggest_int(\"components\", 40, 120)\n",
        "    item_alpha = trial.suggest_loguniform(\"item_alpha\", 1e-6, 1e-2)\n",
        "    user_alpha = trial.suggest_loguniform(\"user_alpha\", 1e-6, 1e-2)\n",
        "    learning_rate = trial.suggest_loguniform(\"learning_rate\", 0.0001, 0.005)\n",
        "\n",
        "\n",
        "    model = LightFM(loss=loss, no_components=components, item_alpha=item_alpha, user_alpha=user_alpha, learning_rate=learning_rate)\n",
        "    model.fit(train, epochs=10, num_threads=4, item_features=csr_matrix(game_feature_matrix))\n",
        "\n",
        "    test_precision = precision_at_k(model, test, k=5, item_features=csr_matrix(game_feature_matrix)).mean()\n",
        "    return test_precision"
      ]
    },
    {
      "cell_type": "code",
      "execution_count": null,
      "metadata": {
        "colab": {
          "base_uri": "https://localhost:8080/"
        },
        "id": "ra-TQIwkbQ_X",
        "outputId": "a1d02043-ec04-4ae5-98c8-a18af962fd37"
      },
      "outputs": [
        {
          "output_type": "stream",
          "name": "stderr",
          "text": [
            "[I 2025-04-04 20:25:09,492] A new study created in memory with name: no-name-1efb7de4-8cee-4e29-9930-046d75f44b03\n",
            "[I 2025-04-04 20:29:14,031] Trial 0 finished with value: 0.019806407392024994 and parameters: {'loss': 'warp', 'components': 101, 'item_alpha': 3.117815597654561e-05, 'user_alpha': 4.493555926661294e-05, 'learning_rate': 0.000593657604175349}. Best is trial 0 with value: 0.019806407392024994.\n",
            "[I 2025-04-04 20:32:24,621] Trial 1 finished with value: 0.023056579753756523 and parameters: {'loss': 'bpr', 'components': 83, 'item_alpha': 7.091244482417398e-06, 'user_alpha': 1.6375891638174376e-06, 'learning_rate': 0.0006288141985418372}. Best is trial 1 with value: 0.023056579753756523.\n",
            "[I 2025-04-04 20:34:09,640] Trial 2 finished with value: 0.019953647628426552 and parameters: {'loss': 'warp', 'components': 43, 'item_alpha': 1.0585301108118993e-05, 'user_alpha': 1.0564163558985326e-06, 'learning_rate': 0.004103103814332838}. Best is trial 1 with value: 0.023056579753756523.\n",
            "[I 2025-04-04 20:35:54,236] Trial 3 finished with value: 0.019811861217021942 and parameters: {'loss': 'bpr', 'components': 46, 'item_alpha': 6.659816131054244e-05, 'user_alpha': 1.1064659202061273e-06, 'learning_rate': 0.00030784445647475897}. Best is trial 1 with value: 0.023056579753756523.\n",
            "[I 2025-04-04 20:38:13,701] Trial 4 finished with value: 0.020329924300312996 and parameters: {'loss': 'bpr', 'components': 58, 'item_alpha': 0.00015637569280815573, 'user_alpha': 0.007155052295084365, 'learning_rate': 0.00353080902393508}. Best is trial 1 with value: 0.023056579753756523.\n",
            "[I 2025-04-04 20:41:47,328] Trial 5 finished with value: 0.019806407392024994 and parameters: {'loss': 'warp', 'components': 89, 'item_alpha': 2.0072139231320438e-06, 'user_alpha': 0.00017937752823756332, 'learning_rate': 0.0011314413717854511}. Best is trial 1 with value: 0.023056579753756523.\n",
            "[I 2025-04-04 20:43:26,423] Trial 6 finished with value: 0.019806407392024994 and parameters: {'loss': 'warp', 'components': 41, 'item_alpha': 1.2954643009418568e-05, 'user_alpha': 0.0003155402410161637, 'learning_rate': 0.0003362129781321564}. Best is trial 1 with value: 0.023056579753756523.\n",
            "[I 2025-04-04 20:47:23,524] Trial 7 finished with value: 0.019806407392024994 and parameters: {'loss': 'warp', 'components': 100, 'item_alpha': 0.001180373815491127, 'user_alpha': 0.0005421457813670066, 'learning_rate': 0.0004003181642830768}. Best is trial 1 with value: 0.023056579753756523.\n",
            "[I 2025-04-04 20:49:21,152] Trial 8 finished with value: 0.019806407392024994 and parameters: {'loss': 'bpr', 'components': 52, 'item_alpha': 3.925401218074417e-05, 'user_alpha': 1.4242490977728203e-06, 'learning_rate': 0.0019498515912238208}. Best is trial 1 with value: 0.023056579753756523.\n",
            "[I 2025-04-04 20:52:46,014] Trial 9 finished with value: 0.022085892036557198 and parameters: {'loss': 'bpr', 'components': 88, 'item_alpha': 0.000741020555447271, 'user_alpha': 0.0001241194707802705, 'learning_rate': 0.0001342068772177156}. Best is trial 1 with value: 0.023056579753756523.\n",
            "[I 2025-04-04 20:55:21,260] Trial 10 finished with value: 0.019048398360610008 and parameters: {'loss': 'bpr', 'components': 69, 'item_alpha': 0.009612622578179318, 'user_alpha': 1.0451964252002772e-05, 'learning_rate': 0.00013122211416675394}. Best is trial 1 with value: 0.023056579753756523.\n",
            "[I 2025-04-04 20:59:48,471] Trial 11 finished with value: 0.020820723846554756 and parameters: {'loss': 'bpr', 'components': 116, 'item_alpha': 0.0009162534422941526, 'user_alpha': 2.1470127268262263e-05, 'learning_rate': 0.0001540219514132748}. Best is trial 1 with value: 0.023056579753756523.\n",
            "[I 2025-04-04 21:02:50,424] Trial 12 finished with value: 0.019806407392024994 and parameters: {'loss': 'bpr', 'components': 78, 'item_alpha': 0.0005508293544664229, 'user_alpha': 0.0032230703508095934, 'learning_rate': 0.0011325210689934538}. Best is trial 1 with value: 0.023056579753756523.\n",
            "[I 2025-04-04 21:06:04,834] Trial 13 finished with value: 0.022598501294851303 and parameters: {'loss': 'bpr', 'components': 82, 'item_alpha': 1.5319456193168669e-06, 'user_alpha': 8.296625413856903e-06, 'learning_rate': 0.0001622934140110865}. Best is trial 1 with value: 0.023056579753756523.\n",
            "[I 2025-04-04 21:08:39,974] Trial 14 finished with value: 0.02232038415968418 and parameters: {'loss': 'bpr', 'components': 68, 'item_alpha': 1.2021066139547335e-06, 'user_alpha': 6.356712246127947e-06, 'learning_rate': 0.0002938843488173844}. Best is trial 1 with value: 0.023056579753756523.\n",
            "[I 2025-04-04 21:11:41,628] Trial 15 finished with value: 0.023116566240787506 and parameters: {'loss': 'bpr', 'components': 78, 'item_alpha': 4.23244048620726e-06, 'user_alpha': 5.18408271040781e-06, 'learning_rate': 0.00020587258200405341}. Best is trial 15 with value: 0.023116566240787506.\n",
            "[I 2025-04-04 21:14:16,489] Trial 16 finished with value: 0.023056579753756523 and parameters: {'loss': 'bpr', 'components': 69, 'item_alpha': 9.062523258134734e-06, 'user_alpha': 3.5040612574494666e-06, 'learning_rate': 0.0007571152128835236}. Best is trial 15 with value: 0.023116566240787506.\n",
            "[I 2025-04-04 21:18:07,743] Trial 17 finished with value: 0.023056579753756523 and parameters: {'loss': 'bpr', 'components': 100, 'item_alpha': 4.8089319702359135e-06, 'user_alpha': 3.516168568020852e-05, 'learning_rate': 0.00023278452683905316}. Best is trial 15 with value: 0.023116566240787506.\n",
            "[I 2025-04-04 21:22:44,022] Trial 18 finished with value: 0.019806407392024994 and parameters: {'loss': 'bpr', 'components': 120, 'item_alpha': 5.367177117729455e-06, 'user_alpha': 3.252417214225976e-06, 'learning_rate': 0.0007230080203211812}. Best is trial 15 with value: 0.023116566240787506.\n",
            "[I 2025-04-04 21:25:02,727] Trial 19 finished with value: 0.021147919818758965 and parameters: {'loss': 'bpr', 'components': 61, 'item_alpha': 0.000158217186851713, 'user_alpha': 2.896601394139988e-06, 'learning_rate': 0.00010258537078630867}. Best is trial 15 with value: 0.023116566240787506.\n"
          ]
        },
        {
          "output_type": "stream",
          "name": "stdout",
          "text": [
            "Best hyperparameters: {'loss': 'bpr', 'components': 78, 'item_alpha': 4.23244048620726e-06, 'user_alpha': 5.18408271040781e-06, 'learning_rate': 0.00020587258200405341}\n"
          ]
        }
      ],
      "source": [
        "# train-test split (80-20)\n",
        "train, test = random_train_test_split(interaction_matrix, test_percentage=0.2)\n",
        "\n",
        "# optuna for hyperparameter tuning\n",
        "study = optuna.create_study(direction='maximize')\n",
        "study.optimize(objective, n_trials=20)\n",
        "\n",
        "best_params = study.best_params\n",
        "print(f\"Best hyperparameters: {best_params}\")"
      ]
    },
    {
      "cell_type": "code",
      "execution_count": null,
      "metadata": {
        "colab": {
          "base_uri": "https://localhost:8080/"
        },
        "id": "MUhZkjNUIbjs",
        "outputId": "37e0c894-4f2d-42d4-c44d-e946fd22fa98"
      },
      "outputs": [
        {
          "output_type": "execute_result",
          "data": {
            "text/plain": [
              "<lightfm.lightfm.LightFM at 0x7b4740215f50>"
            ]
          },
          "metadata": {},
          "execution_count": 28
        }
      ],
      "source": [
        "# training with best hyperparameters\n",
        "\n",
        "final_model = LightFM(loss=best_params['loss'], no_components=best_params['components'],\n",
        "                      item_alpha=best_params['item_alpha'], user_alpha=best_params['user_alpha'], learning_rate=best_params['learning_rate'])\n",
        "\n",
        "game_feature_matrix = csr_matrix(game_feature_matrix)\n",
        "\n",
        "final_model.fit(train, epochs=20, num_threads=4, item_features=game_feature_matrix)"
      ]
    },
    {
      "cell_type": "code",
      "execution_count": null,
      "metadata": {
        "colab": {
          "base_uri": "https://localhost:8080/"
        },
        "id": "Q8XUHu0NbUQD",
        "outputId": "9ad857db-a5a8-4065-fed7-ff3b96e168a9"
      },
      "outputs": [
        {
          "output_type": "stream",
          "name": "stdout",
          "text": [
            "Train precision at k=5: 0.0649\n",
            "Test precision at k=5: 0.0231\n"
          ]
        }
      ],
      "source": [
        "# model evaluation\n",
        "train_precision = precision_at_k(final_model, train, k=5, item_features=game_feature_matrix).mean()\n",
        "test_precision = precision_at_k(final_model, test, k=5, item_features=game_feature_matrix).mean()\n",
        "print(f\"Train precision at k=5: {train_precision:.4f}\")\n",
        "print(f\"Test precision at k=5: {test_precision:.4f}\")"
      ]
    },
    {
      "cell_type": "code",
      "execution_count": null,
      "metadata": {
        "colab": {
          "base_uri": "https://localhost:8080/"
        },
        "id": "ScnWi0PsbXz_",
        "outputId": "a88492d2-f7b7-4295-cc49-e0f8b2413d49"
      },
      "outputs": [
        {
          "output_type": "stream",
          "name": "stdout",
          "text": [
            "Recommended game IDs: ['2358720', '1938090', '1063730', '1086940', '899770']\n"
          ]
        }
      ],
      "source": [
        "# recommend games\n",
        "def recommend_games(player_id, model, interaction_matrix, game_df, top_n=5):\n",
        "    scores = model.predict(player_id, np.arange(interaction_matrix.shape[1]), item_features=game_feature_matrix)\n",
        "    top_games = np.argsort(-scores)[:top_n]  # retrieve top N game indices\n",
        "    recommended_games = [list(game_df.index)[i] for i in top_games]\n",
        "\n",
        "    return recommended_games\n",
        "\n",
        "player_to_recommend = 34645  # example: player 0\n",
        "recommended_games = recommend_games(player_to_recommend, final_model, interaction_matrix, game_df)\n",
        "print(\"Recommended game IDs:\", recommended_games)"
      ]
    },
    {
      "cell_type": "code",
      "execution_count": null,
      "metadata": {
        "colab": {
          "base_uri": "https://localhost:8080/"
        },
        "id": "fCpW4xqGbZ1x",
        "outputId": "7ba23305-920f-47ee-fab8-762da5e669e0"
      },
      "outputs": [
        {
          "output_type": "stream",
          "name": "stdout",
          "text": [
            "Interaction matrix Shape: (50000, 99)\n",
            "Game features Shape: (99, 2)\n"
          ]
        }
      ],
      "source": [
        "print(\"Interaction matrix Shape:\", interaction_matrix.shape)\n",
        "print(\"Game features Shape:\", game_df.shape)"
      ]
    },
    {
      "cell_type": "code",
      "execution_count": null,
      "metadata": {
        "colab": {
          "base_uri": "https://localhost:8080/"
        },
        "id": "CPA43MNBBNKW",
        "outputId": "844f0b95-98d5-473e-e8bd-3e361000d848"
      },
      "outputs": [
        {
          "output_type": "stream",
          "name": "stdout",
          "text": [
            "Train Recall at k=5: 0.0624\n",
            "Test Recall at k=5: 0.0654\n"
          ]
        }
      ],
      "source": [
        "from lightfm.evaluation import recall_at_k\n",
        "\n",
        "train_recall = recall_at_k(final_model, train, k=5, item_features=game_feature_matrix).mean()\n",
        "test_recall = recall_at_k(final_model, test, k=5, item_features=game_feature_matrix).mean()\n",
        "\n",
        "print(f\"Train Recall at k=5: {train_recall:.4f}\")\n",
        "print(f\"Test Recall at k=5: {test_recall:.4f}\")\n"
      ]
    },
    {
      "cell_type": "code",
      "execution_count": null,
      "metadata": {
        "colab": {
          "base_uri": "https://localhost:8080/"
        },
        "id": "Ckd-CodqBaTz",
        "outputId": "87f8fe8c-0638-4f86-f74a-f3b2d0ffa297"
      },
      "outputs": [
        {
          "output_type": "stream",
          "name": "stdout",
          "text": [
            "Train MRR: 0.1840\n",
            "Test MRR: 0.0872\n"
          ]
        }
      ],
      "source": [
        "from lightfm.evaluation import reciprocal_rank\n",
        "\n",
        "train_mrr = reciprocal_rank(final_model, train, item_features=game_feature_matrix).mean()\n",
        "test_mrr = reciprocal_rank(final_model, test, item_features=game_feature_matrix).mean()\n",
        "\n",
        "print(f\"Train MRR: {train_mrr:.4f}\")\n",
        "print(f\"Test MRR: {test_mrr:.4f}\")\n"
      ]
    },
    {
      "cell_type": "code",
      "execution_count": null,
      "metadata": {
        "id": "XLMOVofpBq0X",
        "colab": {
          "base_uri": "https://localhost:8080/"
        },
        "outputId": "000db85e-8afd-4bb8-e27c-2f5fa9591c47"
      },
      "outputs": [
        {
          "output_type": "stream",
          "name": "stdout",
          "text": [
            "Total unique recommended games: 5\n"
          ]
        }
      ],
      "source": [
        "all_recommendations = set()\n",
        "for player_id in range(100):\n",
        "    recommended = recommend_games(player_id, final_model, interaction_matrix, game_df)\n",
        "    all_recommendations.update(recommended)\n",
        "\n",
        "print(f\"Total unique recommended games: {len(all_recommendations)}\")"
      ]
    },
    {
      "cell_type": "code",
      "execution_count": null,
      "metadata": {
        "colab": {
          "base_uri": "https://localhost:8080/",
          "height": 312,
          "referenced_widgets": [
            "8b82f2541f2c4ae4a64d0ef878650b1a",
            "54e9eed1177445568db6f93bcea6db4d",
            "1368f8527f294b5a8ba092e99f21fe13",
            "28bd8087b7964c27a4a1c1698abce82b",
            "194eee5a0abe4237875c92b79816bf86",
            "6a21b8db0a6b4574ac3e61fb2d1744fc",
            "d6173b04c5494fd6b53ec2ea95af6741",
            "80e93e9d2505488f950ff550e1e4c844",
            "7208d89b9d6b41f4814770b565183ad1",
            "678bea6a0fc74a60b173a830c6613dc5",
            "5f03777b296c4e458250af10b2090ce4",
            "589bffc6255b40079f1c75f14a6c0efb",
            "f841f12e6e484e0dbf2e2069085a17dd",
            "2b61eab7d5da4c4199dec03e3daf3c9b",
            "beb9c7090dae4a59a649bd44b46d951c",
            "42110da0881144eaa01469079645df9d",
            "49fab6868d04465d82a1b3d4f5b786c9",
            "f4249cf7473443908a4268aa89708cf3",
            "b8a01f62db6541328669814bf46cace4",
            "f3063e162bab41c7b7023268648310a0"
          ]
        },
        "id": "8ppiYA9BBo3E",
        "outputId": "d15fd704-ad7d-4f74-e5ee-db2a48db76e9"
      },
      "outputs": [
        {
          "output_type": "stream",
          "name": "stdout",
          "text": [
            "Requirement already satisfied: huggingface_hub in /usr/local/lib/python3.11/dist-packages (0.30.1)\n",
            "Requirement already satisfied: transformers in /usr/local/lib/python3.11/dist-packages (4.50.3)\n",
            "Requirement already satisfied: filelock in /usr/local/lib/python3.11/dist-packages (from huggingface_hub) (3.18.0)\n",
            "Requirement already satisfied: fsspec>=2023.5.0 in /usr/local/lib/python3.11/dist-packages (from huggingface_hub) (2025.3.2)\n",
            "Requirement already satisfied: packaging>=20.9 in /usr/local/lib/python3.11/dist-packages (from huggingface_hub) (24.2)\n",
            "Requirement already satisfied: pyyaml>=5.1 in /usr/local/lib/python3.11/dist-packages (from huggingface_hub) (6.0.2)\n",
            "Requirement already satisfied: requests in /usr/local/lib/python3.11/dist-packages (from huggingface_hub) (2.32.3)\n",
            "Requirement already satisfied: tqdm>=4.42.1 in /usr/local/lib/python3.11/dist-packages (from huggingface_hub) (4.67.1)\n",
            "Requirement already satisfied: typing-extensions>=3.7.4.3 in /usr/local/lib/python3.11/dist-packages (from huggingface_hub) (4.13.0)\n",
            "Requirement already satisfied: numpy>=1.17 in /usr/local/lib/python3.11/dist-packages (from transformers) (1.26.4)\n",
            "Requirement already satisfied: regex!=2019.12.17 in /usr/local/lib/python3.11/dist-packages (from transformers) (2024.11.6)\n",
            "Requirement already satisfied: tokenizers<0.22,>=0.21 in /usr/local/lib/python3.11/dist-packages (from transformers) (0.21.1)\n",
            "Requirement already satisfied: safetensors>=0.4.3 in /usr/local/lib/python3.11/dist-packages (from transformers) (0.5.3)\n",
            "Requirement already satisfied: charset-normalizer<4,>=2 in /usr/local/lib/python3.11/dist-packages (from requests->huggingface_hub) (3.4.1)\n",
            "Requirement already satisfied: idna<4,>=2.5 in /usr/local/lib/python3.11/dist-packages (from requests->huggingface_hub) (3.10)\n",
            "Requirement already satisfied: urllib3<3,>=1.21.1 in /usr/local/lib/python3.11/dist-packages (from requests->huggingface_hub) (2.3.0)\n",
            "Requirement already satisfied: certifi>=2017.4.17 in /usr/local/lib/python3.11/dist-packages (from requests->huggingface_hub) (2025.1.31)\n"
          ]
        },
        {
          "output_type": "display_data",
          "data": {
            "text/plain": [
              "VBox(children=(HTML(value='<center> <img\\nsrc=https://huggingface.co/front/assets/huggingface_logo-noborder.sv…"
            ],
            "application/vnd.jupyter.widget-view+json": {
              "version_major": 2,
              "version_minor": 0,
              "model_id": "8b82f2541f2c4ae4a64d0ef878650b1a"
            }
          },
          "metadata": {}
        }
      ],
      "source": [
        "!pip install huggingface_hub transformers\n",
        "from huggingface_hub import login\n",
        "login()"
      ]
    },
    {
      "cell_type": "code",
      "execution_count": null,
      "metadata": {
        "colab": {
          "base_uri": "https://localhost:8080/"
        },
        "id": "paK88EYEB3oe",
        "outputId": "8bb02c1b-65ce-48d2-8ed2-111de7c554aa"
      },
      "outputs": [
        {
          "output_type": "execute_result",
          "data": {
            "text/plain": [
              "['game-rec-model/game-rec.pkl']"
            ]
          },
          "metadata": {},
          "execution_count": 63
        }
      ],
      "source": [
        "import joblib\n",
        "import os\n",
        "\n",
        "model_path = \"game-rec-model\"\n",
        "if not os.path.exists(model_path):\n",
        "    os.makedirs(model_path)\n",
        "\n",
        "joblib.dump(final_model, os.path.join(model_path, 'game-rec.pkl'))\n"
      ]
    },
    {
      "cell_type": "code",
      "execution_count": null,
      "metadata": {
        "colab": {
          "base_uri": "https://localhost:8080/",
          "height": 118,
          "referenced_widgets": [
            "662babe28907409a87416e452ee8b6e5",
            "a2d419dac2f94a7287c09532d4a444cb",
            "6a92992b10114f4ba8d54b40ded69ca1",
            "bd7b5a5322df48fa9b3cac84848e00fb",
            "2315b64b712a4117be4fb2b3b9ea5855",
            "eb6d04edf5a54c2a84903ee407fd855b",
            "03c44015046d4c8aa917b51c33fe0b8a",
            "bec11d69b062404eb3638614e469a961",
            "436a2f2478b9442caf014192642a5784",
            "6d7654995e0449668d8acde887696aff",
            "03cc06142e5b437b8eb77980cc5dca33"
          ]
        },
        "id": "pfFUUdnaDJCF",
        "outputId": "e5e9fac7-3a0f-4d6c-a077-2574be718402"
      },
      "outputs": [
        {
          "output_type": "display_data",
          "data": {
            "text/plain": [
              "game-rec.pkl:   0%|          | 0.00/47.5M [00:00<?, ?B/s]"
            ],
            "application/vnd.jupyter.widget-view+json": {
              "version_major": 2,
              "version_minor": 0,
              "model_id": "662babe28907409a87416e452ee8b6e5"
            }
          },
          "metadata": {}
        },
        {
          "output_type": "execute_result",
          "data": {
            "text/plain": [
              "CommitInfo(commit_url='https://huggingface.co/reemchaaban/game-rec/commit/d2c21b3d553965ba4e4a64329d91d9ed6968c5db', commit_message='Upload game-rec.pkl with huggingface_hub', commit_description='', oid='d2c21b3d553965ba4e4a64329d91d9ed6968c5db', pr_url=None, repo_url=RepoUrl('https://huggingface.co/reemchaaban/game-rec', endpoint='https://huggingface.co', repo_type='model', repo_id='reemchaaban/game-rec'), pr_revision=None, pr_num=None)"
            ],
            "application/vnd.google.colaboratory.intrinsic+json": {
              "type": "string"
            }
          },
          "metadata": {},
          "execution_count": 64
        }
      ],
      "source": [
        "from huggingface_hub import HfApi\n",
        "repo_id = \"reemchaaban/game-rec\"\n",
        "\n",
        "api = HfApi()\n",
        "api.create_repo(repo_id=repo_id, exist_ok=True)\n",
        "\n",
        "api.upload_file(\n",
        "    path_or_fileobj=os.path.join(model_path, 'game-rec.pkl'),\n",
        "    path_in_repo=\"game-rec.pkl\",\n",
        "    repo_id=repo_id,\n",
        ")\n"
      ]
    }
  ],
  "metadata": {
    "colab": {
      "provenance": [],
      "include_colab_link": true
    },
    "kernelspec": {
      "display_name": "Python 3",
      "name": "python3"
    },
    "language_info": {
      "name": "python"
    }
  },
  "nbformat": 4,
  "nbformat_minor": 0
}