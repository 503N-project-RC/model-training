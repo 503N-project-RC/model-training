{
  "nbformat": 4,
  "nbformat_minor": 0,
  "metadata": {
    "colab": {
      "provenance": []
    },
    "kernelspec": {
      "name": "python3",
      "display_name": "Python 3"
    },
    "language_info": {
      "name": "python"
    }
  },
  "cells": [
    {
      "cell_type": "markdown",
      "source": [
        "# GAME RECOMMENDATION SYSTEM"
      ],
      "metadata": {
        "id": "wSXThhww_aUp"
      }
    },
    {
      "cell_type": "markdown",
      "source": [
        "## PREPROCESSING"
      ],
      "metadata": {
        "id": "LCk-3UCpGG6_"
      }
    },
    {
      "cell_type": "code",
      "source": [
        "import os\n",
        "import json\n",
        "import pandas as pd\n",
        "import numpy as np\n",
        "from google.colab import drive, userdata, files\n",
        "\n",
        "from sklearn.preprocessing import MultiLabelBinarizer, MinMaxScaler\n",
        "from scipy.sparse import coo_matrix, csr_matrix\n",
        "!pip install lightfm\n",
        "from lightfm import LightFM\n",
        "from lightfm.cross_validation import random_train_test_split\n",
        "from lightfm.evaluation import precision_at_k"
      ],
      "metadata": {
        "id": "dE_cV_0i_eTo",
        "colab": {
          "base_uri": "https://localhost:8080/"
        },
        "outputId": "c4a0581e-c9a3-40a4-8fb1-77b8c810247b"
      },
      "execution_count": null,
      "outputs": [
        {
          "output_type": "stream",
          "name": "stdout",
          "text": [
            "Collecting lightfm\n",
            "  Downloading lightfm-1.17.tar.gz (316 kB)\n",
            "\u001b[?25l     \u001b[90m━━━━━━━━━━━━━━━━━━━━━━━━━━━━━━━━━━━━━━━━\u001b[0m \u001b[32m0.0/316.4 kB\u001b[0m \u001b[31m?\u001b[0m eta \u001b[36m-:--:--\u001b[0m\r\u001b[2K     \u001b[91m━━━━━━━━━━━━━━\u001b[0m\u001b[90m╺\u001b[0m\u001b[90m━━━━━━━━━━━━━━━━━━━━━━━━━\u001b[0m \u001b[32m112.6/316.4 kB\u001b[0m \u001b[31m6.5 MB/s\u001b[0m eta \u001b[36m0:00:01\u001b[0m\r\u001b[2K     \u001b[91m━━━━━━━━━━━━━━━━━━━━━━━━━━━━━━━━━━━━━━\u001b[0m\u001b[91m╸\u001b[0m\u001b[90m━\u001b[0m \u001b[32m307.2/316.4 kB\u001b[0m \u001b[31m6.5 MB/s\u001b[0m eta \u001b[36m0:00:01\u001b[0m\r\u001b[2K     \u001b[90m━━━━━━━━━━━━━━━━━━━━━━━━━━━━━━━━━━━━━━━━\u001b[0m \u001b[32m316.4/316.4 kB\u001b[0m \u001b[31m3.9 MB/s\u001b[0m eta \u001b[36m0:00:00\u001b[0m\n",
            "\u001b[?25h  Preparing metadata (setup.py) ... \u001b[?25l\u001b[?25hdone\n",
            "Requirement already satisfied: numpy in /usr/local/lib/python3.11/dist-packages (from lightfm) (2.0.2)\n",
            "Requirement already satisfied: scipy>=0.17.0 in /usr/local/lib/python3.11/dist-packages (from lightfm) (1.14.1)\n",
            "Requirement already satisfied: requests in /usr/local/lib/python3.11/dist-packages (from lightfm) (2.32.3)\n",
            "Requirement already satisfied: scikit-learn in /usr/local/lib/python3.11/dist-packages (from lightfm) (1.6.1)\n",
            "Requirement already satisfied: charset-normalizer<4,>=2 in /usr/local/lib/python3.11/dist-packages (from requests->lightfm) (3.4.1)\n",
            "Requirement already satisfied: idna<4,>=2.5 in /usr/local/lib/python3.11/dist-packages (from requests->lightfm) (3.10)\n",
            "Requirement already satisfied: urllib3<3,>=1.21.1 in /usr/local/lib/python3.11/dist-packages (from requests->lightfm) (2.3.0)\n",
            "Requirement already satisfied: certifi>=2017.4.17 in /usr/local/lib/python3.11/dist-packages (from requests->lightfm) (2025.1.31)\n",
            "Requirement already satisfied: joblib>=1.2.0 in /usr/local/lib/python3.11/dist-packages (from scikit-learn->lightfm) (1.4.2)\n",
            "Requirement already satisfied: threadpoolctl>=3.1.0 in /usr/local/lib/python3.11/dist-packages (from scikit-learn->lightfm) (3.6.0)\n",
            "Building wheels for collected packages: lightfm\n",
            "  Building wheel for lightfm (setup.py) ... \u001b[?25l\u001b[?25hdone\n",
            "  Created wheel for lightfm: filename=lightfm-1.17-cp311-cp311-linux_x86_64.whl size=831160 sha256=dfb45b38a4809a28b2b02f948a8ba76abfac4164cb82abaecb90a2cec43f77ff\n",
            "  Stored in directory: /root/.cache/pip/wheels/b9/0d/8a/0729d2e6e3ca2a898ba55201f905da7db3f838a33df5b3fcdd\n",
            "Successfully built lightfm\n",
            "Installing collected packages: lightfm\n",
            "Successfully installed lightfm-1.17\n"
          ]
        }
      ]
    },
    {
      "cell_type": "code",
      "source": [
        "drive.mount('/content/drive')\n",
        "drive_base_path = '/content/drive/My Drive/503Nproj/game-rec'\n",
        "file_path = os.path.join(drive_base_path, 'synthetic_training_data.json')\n",
        "\n",
        "with open(file_path, 'r') as file:\n",
        "    data = json.load(file)"
      ],
      "metadata": {
        "colab": {
          "base_uri": "https://localhost:8080/"
        },
        "id": "RDRrLEqPG8de",
        "outputId": "45c646f6-1717-4474-e222-6f73305daf9c"
      },
      "execution_count": null,
      "outputs": [
        {
          "output_type": "stream",
          "name": "stdout",
          "text": [
            "Mounted at /content/drive\n"
          ]
        }
      ]
    },
    {
      "cell_type": "code",
      "source": [
        "# lists initialized for interaction matrix\n",
        "player_ids = []\n",
        "game_ids = []\n",
        "hours_played = []\n",
        "\n",
        "# lists initialized for game features\n",
        "game_features = {}"
      ],
      "metadata": {
        "id": "dp3vozJEJWBe"
      },
      "execution_count": null,
      "outputs": []
    },
    {
      "cell_type": "code",
      "source": [
        "# data processing\n",
        "for player, details in data.items():\n",
        "    for game_id, game_data in details[\"games\"].items():\n",
        "        # interaction matrix\n",
        "        player_ids.append(player)\n",
        "        game_ids.append(game_id)\n",
        "        hours_played.append(game_data[\"hours\"])\n",
        "\n",
        "        # collection of game features\n",
        "        if game_id not in game_features:\n",
        "            game_features[game_id] = {\n",
        "                \"rating_ratio\": game_data[\"rating_ratio\"],\n",
        "                \"price\": float(game_data[\"price\"]),\n",
        "                \"genre\": game_data[\"genre\"],\n",
        "                \"tags\": game_data[\"tags\"]\n",
        "            }"
      ],
      "metadata": {
        "id": "ZWPQ9qCRJdWn"
      },
      "execution_count": null,
      "outputs": []
    },
    {
      "cell_type": "code",
      "source": [
        "# creation of interaction matrix\n",
        "player_idx = {player: i for i, player in enumerate(set(player_ids))}\n",
        "game_idx = {game: i for i, game in enumerate(set(game_ids))}\n",
        "rows = [player_idx[p] for p in player_ids]\n",
        "cols = [game_idx[g] for g in game_ids]\n",
        "data = hours_played\n",
        "interaction_matrix = coo_matrix((data, (rows, cols)), shape=(len(player_idx), len(game_idx))).tocsr()"
      ],
      "metadata": {
        "id": "MHB1qcTLL-55"
      },
      "execution_count": null,
      "outputs": []
    },
    {
      "cell_type": "code",
      "source": [
        "# game features ->> DataFrame\n",
        "game_df = pd.DataFrame.from_dict(game_features, orient='index')"
      ],
      "metadata": {
        "id": "vbLnyjehMFd6"
      },
      "execution_count": null,
      "outputs": []
    },
    {
      "cell_type": "code",
      "source": [
        "# check extracted genres & tags\n",
        "all_genres = set()\n",
        "all_tags = set()\n",
        "\n",
        "for game in game_features.values():\n",
        "    all_genres.update(game[\"genre\"])\n",
        "    all_tags.update(game[\"tags\"])\n",
        "\n",
        "print(\"Expected number of unique genres:\", len(all_genres))  # should be 12\n",
        "print(\"Expected number of unique tags:\", len(all_tags))      # should be 242"
      ],
      "metadata": {
        "colab": {
          "base_uri": "https://localhost:8080/"
        },
        "id": "em6JcmPjINUr",
        "outputId": "eefb698b-68f8-434b-9c9e-7f730624013d"
      },
      "execution_count": null,
      "outputs": [
        {
          "output_type": "stream",
          "name": "stdout",
          "text": [
            "Expected number of unique genres: 12\n",
            "Expected number of unique tags: 242\n"
          ]
        }
      ]
    },
    {
      "cell_type": "code",
      "source": [
        "# one-hot encoding of genres & tags\n",
        "mlb_genre = MultiLabelBinarizer()\n",
        "mlb_tags = MultiLabelBinarizer()\n",
        "genre_df = pd.DataFrame(mlb_genre.fit_transform(game_df['genre']),\n",
        "                         columns=[f\"genre_{col}\" for col in mlb_genre.classes_], index=game_df.index)\n",
        "tags_df = pd.DataFrame(mlb_tags.fit_transform(game_df['tags']),\n",
        "                        columns=[f\"tag_{col}\" for col in mlb_tags.classes_], index=game_df.index)"
      ],
      "metadata": {
        "id": "HsOV2fpZMKba"
      },
      "execution_count": null,
      "outputs": []
    },
    {
      "cell_type": "code",
      "source": [
        "print(\"Genres found by MultiLabelBinarizer:\", len(mlb_genre.classes_))  # should be 12\n",
        "print(\"Tags found by MultiLabelBinarizer:\", len(mlb_tags.classes_))      # should be 242"
      ],
      "metadata": {
        "colab": {
          "base_uri": "https://localhost:8080/"
        },
        "id": "1hFP7rzLIhY6",
        "outputId": "b9f64e91-39b7-4dc5-f40a-8ad483577e50"
      },
      "execution_count": null,
      "outputs": [
        {
          "output_type": "stream",
          "name": "stdout",
          "text": [
            "Genres found by MultiLabelBinarizer: 12\n",
            "Tags found by MultiLabelBinarizer: 242\n"
          ]
        }
      ]
    },
    {
      "cell_type": "code",
      "source": [
        "game_df = game_df.join(genre_df).join(tags_df)\n",
        "\n",
        "print(\"Game features shape after merge:\", game_df.shape)  # should be (99, 256)\n"
      ],
      "metadata": {
        "colab": {
          "base_uri": "https://localhost:8080/"
        },
        "id": "y1KntJTAJ7LQ",
        "outputId": "a29a93e9-81ba-464e-c6ee-75c586ee9d27"
      },
      "execution_count": null,
      "outputs": [
        {
          "output_type": "stream",
          "name": "stdout",
          "text": [
            "Game features shape after merge: (99, 258)\n"
          ]
        }
      ]
    },
    {
      "cell_type": "code",
      "source": [
        "# drop original lists\n",
        "game_df.drop(columns=['genre', 'tags'], inplace=True) #\n",
        "\n",
        "# price & rating ratio normalization\n",
        "scaler = MinMaxScaler()\n",
        "game_df[['rating_ratio', 'price']] = scaler.fit_transform(game_df[['rating_ratio', 'price']])\n",
        "\n",
        "print(\"Interaction matrix shape:\", interaction_matrix.shape)\n",
        "print(\"Game features shape:\", game_df.shape)"
      ],
      "metadata": {
        "colab": {
          "base_uri": "https://localhost:8080/"
        },
        "id": "Zx9RJLWEMM3B",
        "outputId": "ee7d8ad3-a429-45be-bb7b-f413495472c9"
      },
      "execution_count": null,
      "outputs": [
        {
          "output_type": "stream",
          "name": "stdout",
          "text": [
            "Interaction matrix shape: (50000, 99)\n",
            "Game features shape: (99, 256)\n"
          ]
        }
      ]
    },
    {
      "cell_type": "code",
      "source": [
        "game_features_sparse = csr_matrix(game_df.values)"
      ],
      "metadata": {
        "id": "oWzp9j2qyqRx"
      },
      "execution_count": null,
      "outputs": []
    },
    {
      "cell_type": "code",
      "source": [
        "# train-test split (80-20)\n",
        "train, test = random_train_test_split(interaction_matrix, test_percentage=0.2)\n",
        "\n",
        "# training over 10 epochs\n",
        "model = LightFM(loss='warp')\n",
        "model.fit(train, epochs=10, num_threads=4, item_features=game_features_sparse)"
      ],
      "metadata": {
        "colab": {
          "base_uri": "https://localhost:8080/"
        },
        "id": "ra-TQIwkbQ_X",
        "outputId": "0336df49-77a4-4bc3-f087-f77c2a6ba36e"
      },
      "execution_count": null,
      "outputs": [
        {
          "output_type": "execute_result",
          "data": {
            "text/plain": [
              "<lightfm.lightfm.LightFM at 0x799bf5289a90>"
            ]
          },
          "metadata": {},
          "execution_count": 13
        }
      ]
    },
    {
      "cell_type": "code",
      "source": [
        "# model evaluation\n",
        "train_precision = precision_at_k(model, train, k=5, item_features=game_features_sparse).mean()\n",
        "test_precision = precision_at_k(model, test, k=5, item_features=game_features_sparse).mean()\n",
        "print(f\"Train precision at k=5: {train_precision:.4f}\")\n",
        "print(f\"Test precision at k=5: {test_precision:.4f}\")"
      ],
      "metadata": {
        "id": "Q8XUHu0NbUQD",
        "colab": {
          "base_uri": "https://localhost:8080/"
        },
        "outputId": "182d62d7-4434-4dee-9a23-4b7ec8225ffb"
      },
      "execution_count": null,
      "outputs": [
        {
          "output_type": "stream",
          "name": "stdout",
          "text": [
            "Train precision at k=5: 0.3638\n",
            "Test precision at k=5: 0.0213\n"
          ]
        }
      ]
    },
    {
      "cell_type": "code",
      "source": [
        "# recommend games\n",
        "def recommend_games(player_id, model, interaction_matrix, game_features_sparse, game_df, top_n=5):\n",
        "    scores = model.predict(player_id, np.arange(interaction_matrix.shape[1]), item_features=game_features_sparse)\n",
        "    top_games = np.argsort(-scores)[:top_n]  # get top \"N\" game indices\n",
        "    recommended_games = [list(game_df.index)[i] for i in top_games]\n",
        "\n",
        "    return recommended_games\n",
        "\n",
        "player_to_recommend = 0  # example: player 0\n",
        "recommended_games = recommend_games(player_to_recommend, model, interaction_matrix, game_features_sparse, game_df)\n",
        "print(\"Recommended game IDs:\", recommended_games)\n",
        "\n",
        "\n"
      ],
      "metadata": {
        "id": "ScnWi0PsbXz_",
        "colab": {
          "base_uri": "https://localhost:8080/"
        },
        "outputId": "72d2d45f-277f-424c-e55f-bafb780f5a83"
      },
      "execution_count": null,
      "outputs": [
        {
          "output_type": "stream",
          "name": "stdout",
          "text": [
            "Recommended game IDs: ['359550', '477160', '570', '8930', '227940']\n"
          ]
        }
      ]
    },
    {
      "cell_type": "code",
      "source": [
        "print(\"Interaction matrix Shape:\", interaction_matrix.shape)\n",
        "print(\"Game features Shape:\", game_df.shape)"
      ],
      "metadata": {
        "id": "fCpW4xqGbZ1x",
        "colab": {
          "base_uri": "https://localhost:8080/"
        },
        "outputId": "694d20ef-83d9-42e2-bf20-6040b266ef92"
      },
      "execution_count": null,
      "outputs": [
        {
          "output_type": "stream",
          "name": "stdout",
          "text": [
            "Interaction matrix Shape: (50000, 99)\n",
            "Game features Shape: (99, 256)\n"
          ]
        }
      ]
    }
  ]
}