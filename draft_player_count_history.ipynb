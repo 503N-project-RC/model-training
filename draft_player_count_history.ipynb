{
  "nbformat": 4,
  "nbformat_minor": 0,
  "metadata": {
    "colab": {
      "provenance": [],
      "authorship_tag": "ABX9TyPCDAIB8dexH5e/IWJZ0Bf9",
      "include_colab_link": true
    },
    "kernelspec": {
      "name": "python3",
      "display_name": "Python 3"
    },
    "language_info": {
      "name": "python"
    }
  },
  "cells": [
    {
      "cell_type": "markdown",
      "metadata": {
        "id": "view-in-github",
        "colab_type": "text"
      },
      "source": [
        "<a href=\"https://colab.research.google.com/github/503N-project-RC/model-training/blob/main/draft_player_count_history.ipynb\" target=\"_parent\"><img src=\"https://colab.research.google.com/assets/colab-badge.svg\" alt=\"Open In Colab\"/></a>"
      ]
    },
    {
      "cell_type": "code",
      "source": [
        "import numpy as np\n",
        "import pandas as pd\n",
        "import tensorflow as tf\n",
        "from tensorflow.keras.models import Sequential\n",
        "from tensorflow.keras.layers import LSTM, Dense, Dropout\n",
        "from sklearn.preprocessing import MinMaxScaler\n",
        "from sklearn.metrics import mean_squared_error\n",
        "import holidays\n",
        "!pip install workalendar\n",
        "from workalendar.usa import UnitedStates  # can change\n",
        "from datetime import datetime, timedelta\n",
        "\n",
        "from google.colab import drive, files\n",
        "import os"
      ],
      "metadata": {
        "id": "o0y1wXxnvJNY",
        "colab": {
          "base_uri": "https://localhost:8080/"
        },
        "outputId": "b8acf07b-2105-4ddf-e454-1a82b1749835"
      },
      "execution_count": 16,
      "outputs": [
        {
          "output_type": "stream",
          "name": "stdout",
          "text": [
            "Requirement already satisfied: workalendar in /usr/local/lib/python3.11/dist-packages (17.0.0)\n",
            "Requirement already satisfied: python-dateutil in /usr/local/lib/python3.11/dist-packages (from workalendar) (2.8.2)\n",
            "Requirement already satisfied: lunardate in /usr/local/lib/python3.11/dist-packages (from workalendar) (0.2.2)\n",
            "Requirement already satisfied: convertdate in /usr/local/lib/python3.11/dist-packages (from workalendar) (2.4.0)\n",
            "Requirement already satisfied: pyluach in /usr/local/lib/python3.11/dist-packages (from workalendar) (2.2.0)\n",
            "Requirement already satisfied: pymeeus<=1,>=0.3.13 in /usr/local/lib/python3.11/dist-packages (from convertdate->workalendar) (0.5.12)\n",
            "Requirement already satisfied: six>=1.5 in /usr/local/lib/python3.11/dist-packages (from python-dateutil->workalendar) (1.17.0)\n"
          ]
        }
      ]
    },
    {
      "cell_type": "code",
      "source": [
        "# load dataset\n",
        "drive.mount('/content/drive')\n",
        "drive_base_path = '/content/drive/My Drive/503Nproj/player-count-history'\n",
        "file_path = os.path.join(drive_base_path, 'player_count_history.csv')\n",
        "df = pd.read_csv(file_path, parse_dates=['date'])"
      ],
      "metadata": {
        "colab": {
          "base_uri": "https://localhost:8080/"
        },
        "id": "_k0YTx2MvUOL",
        "outputId": "0caa55fb-5a3a-4783-84bf-7a5d69a598e0"
      },
      "execution_count": 17,
      "outputs": [
        {
          "output_type": "stream",
          "name": "stdout",
          "text": [
            "Drive already mounted at /content/drive; to attempt to forcibly remount, call drive.mount(\"/content/drive\", force_remount=True).\n"
          ]
        }
      ]
    },
    {
      "cell_type": "code",
      "source": [
        "# feature engineering\n",
        "us_holidays = holidays.US()\n",
        "cal = UnitedStates()\n",
        "df['is_holiday_holidays_lib'] = df['date'].apply(lambda x: int(x in us_holidays))\n",
        "df['is_holiday_workalendar'] = df['date'].apply(lambda x: int(cal.is_holiday(x)))\n",
        "df['day_of_week'] = df['date'].dt.dayofweek  # i.e., monday=0, tuesday=1, ..., sunday=6"
      ],
      "metadata": {
        "id": "fFvQWpEnvQh6"
      },
      "execution_count": 18,
      "outputs": []
    },
    {
      "cell_type": "code",
      "source": [
        "# target column & features\n",
        "target_col = 'total players'\n",
        "player_columns = [col for col in df.columns if col not in ['date']]\n",
        "features = player_columns + ['day_of_week', 'is_holiday_holidays_lib', 'is_holiday_workalendar']"
      ],
      "metadata": {
        "id": "26l3ZXQvvoLr"
      },
      "execution_count": 19,
      "outputs": []
    },
    {
      "cell_type": "code",
      "source": [
        "# scaling\n",
        "scaler_players = MinMaxScaler()\n",
        "df[[target_col]] = scaler_players.fit_transform(df[[target_col]])  # train only on total players\n",
        "print(f\"Scaler was trained on {scaler_players.n_features_in_} features\")\n",
        "\n",
        "\n",
        "scaler_features = MinMaxScaler()\n",
        "df[['day_of_week', 'is_holiday_holidays_lib', 'is_holiday_workalendar']] = scaler_features.fit_transform(df[['day_of_week', 'is_holiday_holidays_lib', 'is_holiday_workalendar']])"
      ],
      "metadata": {
        "id": "NMJmgd_FvsGr",
        "colab": {
          "base_uri": "https://localhost:8080/"
        },
        "outputId": "65bd9835-9a3a-4eab-bce4-f25aa2691f54"
      },
      "execution_count": 20,
      "outputs": [
        {
          "output_type": "stream",
          "name": "stdout",
          "text": [
            "Scaler was trained on 1 features\n"
          ]
        }
      ]
    },
    {
      "cell_type": "code",
      "source": [
        "print(df.isnull().sum()) # get number of missing values"
      ],
      "metadata": {
        "colab": {
          "base_uri": "https://localhost:8080/"
        },
        "id": "67HkMV1PFbVK",
        "outputId": "b9bad335-8008-4ed7-996f-4bc5ccbf1e47"
      },
      "execution_count": 21,
      "outputs": [
        {
          "output_type": "stream",
          "name": "stdout",
          "text": [
            "date                       0\n",
            "570                        0\n",
            "730                        0\n",
            "578080                     0\n",
            "1172470                    0\n",
            "                          ..\n",
            "1086940                    0\n",
            "total players              0\n",
            "is_holiday_holidays_lib    0\n",
            "is_holiday_workalendar     0\n",
            "day_of_week                0\n",
            "Length: 102, dtype: int64\n"
          ]
        }
      ]
    },
    {
      "cell_type": "code",
      "source": [
        "print(df.dtypes)\n"
      ],
      "metadata": {
        "colab": {
          "base_uri": "https://localhost:8080/"
        },
        "id": "Ahahj23xFkcA",
        "outputId": "c4e7c2de-8466-4755-b203-049c74188ef7"
      },
      "execution_count": 22,
      "outputs": [
        {
          "output_type": "stream",
          "name": "stdout",
          "text": [
            "date                       datetime64[ns]\n",
            "570                                 int64\n",
            "730                                 int64\n",
            "578080                              int64\n",
            "1172470                             int64\n",
            "                                ...      \n",
            "1086940                             int64\n",
            "total players                     float64\n",
            "is_holiday_holidays_lib           float64\n",
            "is_holiday_workalendar            float64\n",
            "day_of_week                       float64\n",
            "Length: 102, dtype: object\n"
          ]
        }
      ]
    },
    {
      "cell_type": "code",
      "source": [
        "# sequence preparation\n",
        "def create_sequences(data, seq_length):\n",
        "    X, y = [], []\n",
        "    for i in range(len(data) - seq_length):\n",
        "        X.append(data[i:i + seq_length, :-1])  # features\n",
        "        y.append(data[i + seq_length, -1])  # target variable i.e., total players\n",
        "    return np.array(X), np.array(y)\n",
        "\n",
        "seq_length = 30  # use last 30 days to predict\n",
        "data = df[features].values\n",
        "X, y = create_sequences(data, seq_length)\n",
        "\n",
        "# 80-20 training split\n",
        "split_idx = int(0.8 * len(X))\n",
        "X_train, X_test = X[:split_idx], X[split_idx:]\n",
        "y_train, y_test = y[:split_idx], y[split_idx:]"
      ],
      "metadata": {
        "id": "h8wdQeCTF8BO"
      },
      "execution_count": 23,
      "outputs": []
    },
    {
      "cell_type": "code",
      "source": [
        "print(f\"X_train shape: {X_train.shape}, y_train shape: {y_train.shape}\") #verify that X train & test shapes make sense\n",
        "print(f\"X_test shape: {X_test.shape}, y_test shape: {y_test.shape}\")"
      ],
      "metadata": {
        "colab": {
          "base_uri": "https://localhost:8080/"
        },
        "id": "F2bR6E02GSAf",
        "outputId": "f9a5df8d-e374-4e89-c83c-6e597ea2916f"
      },
      "execution_count": 24,
      "outputs": [
        {
          "output_type": "stream",
          "name": "stdout",
          "text": [
            "X_train shape: (560, 30, 103), y_train shape: (560,)\n",
            "X_test shape: (140, 30, 103), y_test shape: (140,)\n"
          ]
        }
      ]
    },
    {
      "cell_type": "code",
      "source": [
        "# LSTM model training\n",
        "model = Sequential([\n",
        "    LSTM(100, return_sequences=True, input_shape=(seq_length, X.shape[2])),\n",
        "    Dropout(0.2),\n",
        "    LSTM(100, return_sequences=False),\n",
        "    Dropout(0.2),\n",
        "    Dense(50, activation='relu'),\n",
        "    Dense(1)\n",
        "])\n",
        "\n",
        "model.compile(optimizer='adam', loss='mse')\n",
        "model.fit(X_train, y_train, epochs=30, batch_size=16, validation_data=(X_test, y_test))"
      ],
      "metadata": {
        "colab": {
          "base_uri": "https://localhost:8080/"
        },
        "id": "udmwPWumvzgq",
        "outputId": "f3a62d17-7345-432c-e6fd-67b3e2b03145"
      },
      "execution_count": 25,
      "outputs": [
        {
          "output_type": "stream",
          "name": "stdout",
          "text": [
            "Epoch 1/30\n"
          ]
        },
        {
          "output_type": "stream",
          "name": "stderr",
          "text": [
            "/usr/local/lib/python3.11/dist-packages/keras/src/layers/rnn/rnn.py:200: UserWarning: Do not pass an `input_shape`/`input_dim` argument to a layer. When using Sequential models, prefer using an `Input(shape)` object as the first layer in the model instead.\n",
            "  super().__init__(**kwargs)\n"
          ]
        },
        {
          "output_type": "stream",
          "name": "stdout",
          "text": [
            "\u001b[1m35/35\u001b[0m \u001b[32m━━━━━━━━━━━━━━━━━━━━\u001b[0m\u001b[37m\u001b[0m \u001b[1m12s\u001b[0m 108ms/step - loss: 0.0533 - val_loss: 0.0437\n",
            "Epoch 2/30\n",
            "\u001b[1m35/35\u001b[0m \u001b[32m━━━━━━━━━━━━━━━━━━━━\u001b[0m\u001b[37m\u001b[0m \u001b[1m4s\u001b[0m 92ms/step - loss: 0.0281 - val_loss: 0.0459\n",
            "Epoch 3/30\n",
            "\u001b[1m35/35\u001b[0m \u001b[32m━━━━━━━━━━━━━━━━━━━━\u001b[0m\u001b[37m\u001b[0m \u001b[1m4s\u001b[0m 65ms/step - loss: 0.0272 - val_loss: 0.0427\n",
            "Epoch 4/30\n",
            "\u001b[1m35/35\u001b[0m \u001b[32m━━━━━━━━━━━━━━━━━━━━\u001b[0m\u001b[37m\u001b[0m \u001b[1m2s\u001b[0m 55ms/step - loss: 0.0272 - val_loss: 0.0420\n",
            "Epoch 5/30\n",
            "\u001b[1m35/35\u001b[0m \u001b[32m━━━━━━━━━━━━━━━━━━━━\u001b[0m\u001b[37m\u001b[0m \u001b[1m1s\u001b[0m 37ms/step - loss: 0.0255 - val_loss: 0.0422\n",
            "Epoch 6/30\n",
            "\u001b[1m35/35\u001b[0m \u001b[32m━━━━━━━━━━━━━━━━━━━━\u001b[0m\u001b[37m\u001b[0m \u001b[1m1s\u001b[0m 37ms/step - loss: 0.0364 - val_loss: 0.0419\n",
            "Epoch 7/30\n",
            "\u001b[1m35/35\u001b[0m \u001b[32m━━━━━━━━━━━━━━━━━━━━\u001b[0m\u001b[37m\u001b[0m \u001b[1m3s\u001b[0m 39ms/step - loss: 0.0255 - val_loss: 0.0419\n",
            "Epoch 8/30\n",
            "\u001b[1m35/35\u001b[0m \u001b[32m━━━━━━━━━━━━━━━━━━━━\u001b[0m\u001b[37m\u001b[0m \u001b[1m1s\u001b[0m 36ms/step - loss: 0.0218 - val_loss: 0.0419\n",
            "Epoch 9/30\n",
            "\u001b[1m35/35\u001b[0m \u001b[32m━━━━━━━━━━━━━━━━━━━━\u001b[0m\u001b[37m\u001b[0m \u001b[1m1s\u001b[0m 37ms/step - loss: 0.0243 - val_loss: 0.0416\n",
            "Epoch 10/30\n",
            "\u001b[1m35/35\u001b[0m \u001b[32m━━━━━━━━━━━━━━━━━━━━\u001b[0m\u001b[37m\u001b[0m \u001b[1m1s\u001b[0m 38ms/step - loss: 0.0342 - val_loss: 0.0430\n",
            "Epoch 11/30\n",
            "\u001b[1m35/35\u001b[0m \u001b[32m━━━━━━━━━━━━━━━━━━━━\u001b[0m\u001b[37m\u001b[0m \u001b[1m3s\u001b[0m 64ms/step - loss: 0.0383 - val_loss: 0.0422\n",
            "Epoch 12/30\n",
            "\u001b[1m35/35\u001b[0m \u001b[32m━━━━━━━━━━━━━━━━━━━━\u001b[0m\u001b[37m\u001b[0m \u001b[1m2s\u001b[0m 37ms/step - loss: 0.0380 - val_loss: 0.0418\n",
            "Epoch 13/30\n",
            "\u001b[1m35/35\u001b[0m \u001b[32m━━━━━━━━━━━━━━━━━━━━\u001b[0m\u001b[37m\u001b[0m \u001b[1m1s\u001b[0m 38ms/step - loss: 0.0158 - val_loss: 0.0423\n",
            "Epoch 14/30\n",
            "\u001b[1m35/35\u001b[0m \u001b[32m━━━━━━━━━━━━━━━━━━━━\u001b[0m\u001b[37m\u001b[0m \u001b[1m3s\u001b[0m 37ms/step - loss: 0.0259 - val_loss: 0.0419\n",
            "Epoch 15/30\n",
            "\u001b[1m35/35\u001b[0m \u001b[32m━━━━━━━━━━━━━━━━━━━━\u001b[0m\u001b[37m\u001b[0m \u001b[1m1s\u001b[0m 38ms/step - loss: 0.0256 - val_loss: 0.0436\n",
            "Epoch 16/30\n",
            "\u001b[1m35/35\u001b[0m \u001b[32m━━━━━━━━━━━━━━━━━━━━\u001b[0m\u001b[37m\u001b[0m \u001b[1m1s\u001b[0m 37ms/step - loss: 0.0187 - val_loss: 0.0417\n",
            "Epoch 17/30\n",
            "\u001b[1m35/35\u001b[0m \u001b[32m━━━━━━━━━━━━━━━━━━━━\u001b[0m\u001b[37m\u001b[0m \u001b[1m1s\u001b[0m 37ms/step - loss: 0.0248 - val_loss: 0.0418\n",
            "Epoch 18/30\n",
            "\u001b[1m35/35\u001b[0m \u001b[32m━━━━━━━━━━━━━━━━━━━━\u001b[0m\u001b[37m\u001b[0m \u001b[1m3s\u001b[0m 61ms/step - loss: 0.0205 - val_loss: 0.0421\n",
            "Epoch 19/30\n",
            "\u001b[1m35/35\u001b[0m \u001b[32m━━━━━━━━━━━━━━━━━━━━\u001b[0m\u001b[37m\u001b[0m \u001b[1m2s\u001b[0m 47ms/step - loss: 0.0293 - val_loss: 0.0424\n",
            "Epoch 20/30\n",
            "\u001b[1m35/35\u001b[0m \u001b[32m━━━━━━━━━━━━━━━━━━━━\u001b[0m\u001b[37m\u001b[0m \u001b[1m2s\u001b[0m 39ms/step - loss: 0.0281 - val_loss: 0.0446\n",
            "Epoch 21/30\n",
            "\u001b[1m35/35\u001b[0m \u001b[32m━━━━━━━━━━━━━━━━━━━━\u001b[0m\u001b[37m\u001b[0m \u001b[1m1s\u001b[0m 37ms/step - loss: 0.0227 - val_loss: 0.0448\n",
            "Epoch 22/30\n",
            "\u001b[1m35/35\u001b[0m \u001b[32m━━━━━━━━━━━━━━━━━━━━\u001b[0m\u001b[37m\u001b[0m \u001b[1m3s\u001b[0m 37ms/step - loss: 0.0271 - val_loss: 0.0424\n",
            "Epoch 23/30\n",
            "\u001b[1m35/35\u001b[0m \u001b[32m━━━━━━━━━━━━━━━━━━━━\u001b[0m\u001b[37m\u001b[0m \u001b[1m3s\u001b[0m 37ms/step - loss: 0.0236 - val_loss: 0.0428\n",
            "Epoch 24/30\n",
            "\u001b[1m35/35\u001b[0m \u001b[32m━━━━━━━━━━━━━━━━━━━━\u001b[0m\u001b[37m\u001b[0m \u001b[1m3s\u001b[0m 64ms/step - loss: 0.0237 - val_loss: 0.0432\n",
            "Epoch 25/30\n",
            "\u001b[1m35/35\u001b[0m \u001b[32m━━━━━━━━━━━━━━━━━━━━\u001b[0m\u001b[37m\u001b[0m \u001b[1m2s\u001b[0m 46ms/step - loss: 0.0220 - val_loss: 0.0450\n",
            "Epoch 26/30\n",
            "\u001b[1m35/35\u001b[0m \u001b[32m━━━━━━━━━━━━━━━━━━━━\u001b[0m\u001b[37m\u001b[0m \u001b[1m1s\u001b[0m 37ms/step - loss: 0.0202 - val_loss: 0.0418\n",
            "Epoch 27/30\n",
            "\u001b[1m35/35\u001b[0m \u001b[32m━━━━━━━━━━━━━━━━━━━━\u001b[0m\u001b[37m\u001b[0m \u001b[1m1s\u001b[0m 37ms/step - loss: 0.0233 - val_loss: 0.0436\n",
            "Epoch 28/30\n",
            "\u001b[1m35/35\u001b[0m \u001b[32m━━━━━━━━━━━━━━━━━━━━\u001b[0m\u001b[37m\u001b[0m \u001b[1m3s\u001b[0m 37ms/step - loss: 0.0262 - val_loss: 0.0423\n",
            "Epoch 29/30\n",
            "\u001b[1m35/35\u001b[0m \u001b[32m━━━━━━━━━━━━━━━━━━━━\u001b[0m\u001b[37m\u001b[0m \u001b[1m1s\u001b[0m 37ms/step - loss: 0.0266 - val_loss: 0.0423\n",
            "Epoch 30/30\n",
            "\u001b[1m35/35\u001b[0m \u001b[32m━━━━━━━━━━━━━━━━━━━━\u001b[0m\u001b[37m\u001b[0m \u001b[1m3s\u001b[0m 42ms/step - loss: 0.0257 - val_loss: 0.0431\n"
          ]
        },
        {
          "output_type": "execute_result",
          "data": {
            "text/plain": [
              "<keras.src.callbacks.history.History at 0x7d9813ab9890>"
            ]
          },
          "metadata": {},
          "execution_count": 25
        }
      ]
    },
    {
      "cell_type": "code",
      "source": [
        "# model evaluation\n",
        "y_pred = model.predict(X_test)\n",
        "rmse = np.sqrt(mean_squared_error(y_test, y_pred))\n",
        "print(f\"RMSE: {rmse}\")"
      ],
      "metadata": {
        "colab": {
          "base_uri": "https://localhost:8080/"
        },
        "id": "FMD-kJUnv4fH",
        "outputId": "dff3a296-1933-4468-e097-41cf65cb3d9e"
      },
      "execution_count": 26,
      "outputs": [
        {
          "output_type": "stream",
          "name": "stdout",
          "text": [
            "\u001b[1m5/5\u001b[0m \u001b[32m━━━━━━━━━━━━━━━━━━━━\u001b[0m\u001b[37m\u001b[0m \u001b[1m1s\u001b[0m 147ms/step\n",
            "RMSE: 0.20759424807690513\n"
          ]
        }
      ]
    },
    {
      "cell_type": "code",
      "source": [
        "print(model.input_shape)  # expecting: (None, sequence_length, feature_size)\n"
      ],
      "metadata": {
        "colab": {
          "base_uri": "https://localhost:8080/"
        },
        "id": "7yL3fLCKK3ch",
        "outputId": "4b768d5c-efc0-4126-f125-181f86391b0d"
      },
      "execution_count": 27,
      "outputs": [
        {
          "output_type": "stream",
          "name": "stdout",
          "text": [
            "(None, 30, 103)\n"
          ]
        }
      ]
    },
    {
      "cell_type": "code",
      "source": [
        "def predict_future(date):\n",
        "    date = pd.to_datetime(date)\n",
        "    day_of_week = date.weekday()\n",
        "    is_holiday_holidays = int(date in us_holidays)\n",
        "    is_holiday_workalendar = int(cal.is_holiday(date))\n",
        "\n",
        "    last_seq = df[features].values[-seq_length:]  # ensure the shape is correct\n",
        "\n",
        "    # ensure extra_features has same number of columns as features\n",
        "    extra_features = np.zeros(len(features))  # fill NaNs with zeros\n",
        "    extra_features[-3:] = [day_of_week / 6.0, is_holiday_holidays, is_holiday_workalendar]  # normalization\n",
        "\n",
        "    last_seq = np.vstack([last_seq[1:], extra_features])  # (seq_length, num_features)\n",
        "    last_seq = np.expand_dims(last_seq, axis=0)  # reshape sequence to (1, seq_length, num_features)\n",
        "    last_seq = last_seq[:, :, :103]  # ensure correct feature count\n",
        "\n",
        "    print(f\"last_seq shape before prediction: {last_seq.shape}\")  # ensure last sequence shape is what we expect\n",
        "    print(f\"Last input sequence:\\n{last_seq}\")\n",
        "\n",
        "    prediction = model.predict(last_seq)\n",
        "    print(f\"Raw model output: {prediction[0][0]}\")  # debugging\n",
        "\n",
        "    predicted_players_scaled = np.array([[prediction[0][0]]])  # shape should be (1, 1)\n",
        "\n",
        "    predicted_players = scaler_players.inverse_transform(predicted_players_scaled)[0][0]\n",
        "\n",
        "\n",
        "    print(f\"Predicted total players (scaled): {prediction[0][0]}\")\n",
        "    print(f\"Predicted total players after inverse transform: {predicted_players}\")\n",
        "\n",
        "    return predicted_players\n",
        "\n",
        "future_date = \"2025-03-20\"\n",
        "predicted_players = predict_future(future_date)\n",
        "print(f\"Predicted total players on {future_date}: {int(predicted_players)}\")\n",
        "\n",
        "print(f\"Scaler min: {scaler_players.min_}\")\n",
        "print(f\"Scaler scale: {scaler_players.scale_}\")\n",
        "print(\"Training data min:\", df[\"total players\"].min())\n",
        "print(\"Training data max:\", df[\"total players\"].max())"
      ],
      "metadata": {
        "colab": {
          "base_uri": "https://localhost:8080/"
        },
        "id": "MoDI906gwWvF",
        "outputId": "6be3b491-381b-4ce8-ee79-6e2f84e6dcf9"
      },
      "execution_count": 28,
      "outputs": [
        {
          "output_type": "stream",
          "name": "stdout",
          "text": [
            "last_seq shape before prediction: (1, 30, 103)\n",
            "Last input sequence:\n",
            "[[[6.75521000e+05 1.65963400e+06 7.63746000e+05 ... 8.33333333e-01\n",
            "   8.33333333e-01 0.00000000e+00]\n",
            "  [6.91868000e+05 1.74401500e+06 7.94475000e+05 ... 1.00000000e+00\n",
            "   1.00000000e+00 0.00000000e+00]\n",
            "  [5.95634000e+05 1.55349000e+06 7.62311000e+05 ... 0.00000000e+00\n",
            "   0.00000000e+00 1.00000000e+00]\n",
            "  ...\n",
            "  [5.67165000e+05 1.73793500e+06 8.53729000e+05 ... 6.66666667e-01\n",
            "   6.66666667e-01 0.00000000e+00]\n",
            "  [6.27292000e+05 1.82498900e+06 8.77807000e+05 ... 8.33333333e-01\n",
            "   8.33333333e-01 0.00000000e+00]\n",
            "  [0.00000000e+00 0.00000000e+00 0.00000000e+00 ... 0.00000000e+00\n",
            "   5.00000000e-01 0.00000000e+00]]]\n",
            "\u001b[1m1/1\u001b[0m \u001b[32m━━━━━━━━━━━━━━━━━━━━\u001b[0m\u001b[37m\u001b[0m \u001b[1m0s\u001b[0m 71ms/step\n",
            "Raw model output: 0.02458631992340088\n",
            "Predicted total players (scaled): 0.02458631992340088\n",
            "Predicted total players after inverse transform: 4784530.5\n",
            "Predicted total players on 2025-03-20: 4784530\n",
            "Scaler min: [-1.79565116]\n",
            "Scaler scale: [3.80442226e-07]\n",
            "Training data min: 0.0\n",
            "Training data max: 1.0\n"
          ]
        }
      ]
    }
  ]
}